{
 "cells": [
  {
   "cell_type": "markdown",
   "metadata": {},
   "source": [
    "# Dilute Weak Acid"
   ]
  },
  {
   "cell_type": "markdown",
   "metadata": {},
   "source": [
    "The problem here is that solving dilute acid problems the same as concentrated strong acid problems can cause issues. For example, a strong acid at $10^{-8} F$ solved naively would give $pH = 8$, a basic value which is obviously wrong."
   ]
  },
  {
   "cell_type": "markdown",
   "metadata": {},
   "source": [
    "Let's take as our example HCl, with a $K_{a}=8000$ If you have $[HCl] = 10^{-6}$, then we should first find the amount of $[H_3O^+]$ FROM the acid - This is easily computed as $10^{-6}$"
   ]
  },
  {
   "cell_type": "markdown",
   "metadata": {},
   "source": [
    "But now water autoprotolysis happens as well, so we should consider the reaction $2H_2O /leftrightharpoons H_3O^+ + /OH^-$. We should solve an ICE table here, with the initial concentration of $[H_3O^+] = 10^{-6}$. I'll just show the final result here:\n",
    "$(10^{-6}+x)*x = K_w = 10^{-14}$\n",
    "This solves to:"
   ]
  },
  {
   "cell_type": "code",
   "execution_count": 43,
   "metadata": {
    "collapsed": false
   },
   "outputs": [
    {
     "name": "stdout",
     "output_type": "stream",
     "text": [
      "The solutions are:[-1.00990195135928e-6, 9.90195135927848e-9]\n"
     ]
    }
   ],
   "source": [
    "from sympy import *\n",
    "x= symbols('x')\n",
    "F=1e-6\n",
    "solutions = solve(Eq((F+x)*x, 1e-14), x)\n",
    "print('The solutions are:{}'.format(solutions))"
   ]
  },
  {
   "cell_type": "markdown",
   "metadata": {},
   "source": [
    "We take the positive-valued answer of $9.902*10^{-9}$. This gives $[H_3O^+] = 1.0098*10^{-6}$"
   ]
  },
  {
   "cell_type": "code",
   "execution_count": 44,
   "metadata": {
    "collapsed": false
   },
   "outputs": [
    {
     "name": "stdout",
     "output_type": "stream",
     "text": [
      "The pH is:5.99572076773\n"
     ]
    }
   ],
   "source": [
    "import numpy as np\n",
    "C_H = F+9.902e-9\n",
    "pH=-np.log10(C_H)\n",
    "print(\"The pH is:{}\".format(pH))"
   ]
  },
  {
   "cell_type": "markdown",
   "metadata": {},
   "source": [
    "And $pH = 5.996$. This is slighly more acidic than using the acid concentration alone, because the autoprotolysis of water contributes non-negligibly in this case.  We can double-check that the $HCl K_a$ is still valid. Now that we know the pH, we can use alpha fractions to find how much $Cl^-$ and $HCl$ are still around:\n",
    "$\\alpha_{HCl} = \\frac{[H^+]}{[H^+]+K_a}$ and $\\alpha_{Cl^-} = \\frac{K_a}{[H^+]+K_a}$\n",
    "This gives an HCl alpha fractions and concentrations of:"
   ]
  },
  {
   "cell_type": "code",
   "execution_count": 45,
   "metadata": {
    "collapsed": false
   },
   "outputs": [
    {
     "name": "stdout",
     "output_type": "stream",
     "text": [
      "The alpha for HCL is:1.26237749984e-10\n",
      "The alpha for CL- is:0.999999999874\n",
      "The concentration for HCL is:1.26237749984e-16M\n",
      "The concentration for CL- is:9.99999999874e-07M\n"
     ]
    }
   ],
   "source": [
    "K = 8000\n",
    "F = 1e-6\n",
    "alpha_HCl = C_H/(C_H + K)\n",
    "print(\"The alpha for HCL is:{}\".format(alpha_HCl))\n",
    "alpha_Cl = K/(C_H + K)\n",
    "print(\"The alpha for CL- is:{}\".format(alpha_Cl))\n",
    "C_HCl = alpha_HCl * F\n",
    "print(\"The concentration for HCL is:{}M\".format(C_HCl))\n",
    "C_Cl = alpha_Cl * F\n",
    "print(\"The concentration for CL- is:{}M\".format(C_Cl))"
   ]
  },
  {
   "cell_type": "markdown",
   "metadata": {},
   "source": [
    "And together with $[H_3O^+]$ we can solve Q:"
   ]
  },
  {
   "cell_type": "code",
   "execution_count": 46,
   "metadata": {
    "collapsed": false
   },
   "outputs": [
    {
     "name": "stdout",
     "output_type": "stream",
     "text": [
      "Q = 8000.0, which is equal to K\n"
     ]
    }
   ],
   "source": [
    "Q = C_H*C_Cl/C_HCl\n",
    "print(\"Q = {}, which is equal to K\".format(Q))"
   ]
  },
  {
   "cell_type": "markdown",
   "metadata": {},
   "source": [
    "Now we will consider the case where $F_{HCl} = 10^{-8}$, using the same techniques."
   ]
  },
  {
   "cell_type": "code",
   "execution_count": 47,
   "metadata": {
    "collapsed": false
   },
   "outputs": [
    {
     "name": "stdout",
     "output_type": "stream",
     "text": [
      "The solutions are:[-1.05124921972504e-7, 9.51249219725039e-8]\n"
     ]
    }
   ],
   "source": [
    "F = 1e-8\n",
    "solutions = solve(Eq((F+x)*x, 1e-14), x)\n",
    "print('The solutions are:{}'.format(solutions))"
   ]
  },
  {
   "cell_type": "markdown",
   "metadata": {},
   "source": [
    "Note that here, the amount of $H_3O^+$ from autoprotolysis is $9$ times greater than the amount from the acid. We'll do the same checks below:"
   ]
  },
  {
   "cell_type": "code",
   "execution_count": 48,
   "metadata": {
    "collapsed": false
   },
   "outputs": [
    {
     "name": "stdout",
     "output_type": "stream",
     "text": [
      "The pH is:6.97831464778\n",
      "The alpha for HCL is:1.31399999998e-11\n",
      "The alpha for CL- is:0.999999999987\n",
      "The concentration for HCL is:1.31399999998e-19M\n",
      "The concentration for CL- is:9.99999999987e-09M\n",
      "Q = 8000.0, which is equal to K\n"
     ]
    }
   ],
   "source": [
    "C_H = F+9.512e-8\n",
    "pH=-np.log10(C_H)\n",
    "print(\"The pH is:{}\".format(pH))\n",
    "alpha_HCl = C_H/(C_H + K)\n",
    "print(\"The alpha for HCL is:{}\".format(alpha_HCl))\n",
    "alpha_Cl = K/(C_H + K)\n",
    "print(\"The alpha for CL- is:{}\".format(alpha_Cl))\n",
    "C_HCl = alpha_HCl * F\n",
    "print(\"The concentration for HCL is:{}M\".format(C_HCl))\n",
    "C_Cl = alpha_Cl * F\n",
    "print(\"The concentration for CL- is:{}M\".format(C_Cl))\n",
    "Q = C_H*C_Cl/C_HCl\n",
    "print(\"Q = {}, which is equal to K\".format(Q))"
   ]
  },
  {
   "cell_type": "markdown",
   "metadata": {},
   "source": [
    "Let's do it for a truly dilute acid, and a smaller $K_a$. Now that we have the code, we only need to copy and paste:"
   ]
  },
  {
   "cell_type": "code",
   "execution_count": 49,
   "metadata": {
    "collapsed": false
   },
   "outputs": [
    {
     "name": "stdout",
     "output_type": "stream",
     "text": [
      "The solutions are:[-1.00000500001250e-7, 9.99995000012500e-8]\n"
     ]
    }
   ],
   "source": [
    "F = 1e-12\n",
    "K = 10\n",
    "solutions = solve(Eq((F+x)*x, 1e-14), x)\n",
    "print('The solutions are:{}'.format(solutions))"
   ]
  },
  {
   "cell_type": "code",
   "execution_count": 50,
   "metadata": {
    "collapsed": false
   },
   "outputs": [
    {
     "name": "stdout",
     "output_type": "stream",
     "text": [
      "The pH is:6.99999782853\n",
      "The alpha for HA is:1.00000499e-08\n",
      "The alpha for CL- is:0.99999999\n",
      "The concentration for HA is:1.00000499e-20M\n",
      "The concentration for B- is:9.9999999e-13M\n",
      "Q = 10.0, which is equal to K\n"
     ]
    }
   ],
   "source": [
    "C_H = F+9.99995e-8\n",
    "pH=-np.log10(C_H)\n",
    "print(\"The pH is:{}\".format(pH))\n",
    "alpha_HA = C_H/(C_H + K)\n",
    "print(\"The alpha for HA is:{}\".format(alpha_HA))\n",
    "alpha_B = K/(C_H + K)\n",
    "print(\"The alpha for CL- is:{}\".format(alpha_B))\n",
    "C_HA = alpha_HA * F\n",
    "print(\"The concentration for HA is:{}M\".format(C_HA))\n",
    "C_B = alpha_B * F\n",
    "print(\"The concentration for B- is:{}M\".format(C_B))\n",
    "Q = C_H*C_B/C_HA\n",
    "print(\"Q = {}, which is equal to K\".format(Q))"
   ]
  },
  {
   "cell_type": "code",
   "execution_count": null,
   "metadata": {
    "collapsed": true
   },
   "outputs": [],
   "source": []
  }
 ],
 "metadata": {
  "kernelspec": {
   "display_name": "Python 2",
   "language": "python",
   "name": "python2"
  },
  "language_info": {
   "codemirror_mode": {
    "name": "ipython",
    "version": 2
   },
   "file_extension": ".py",
   "mimetype": "text/x-python",
   "name": "python",
   "nbconvert_exporter": "python",
   "pygments_lexer": "ipython2",
   "version": "2.7.6"
  }
 },
 "nbformat": 4,
 "nbformat_minor": 0
}
